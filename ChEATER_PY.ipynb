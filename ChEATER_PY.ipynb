{
 "cells": [
  {
   "cell_type": "code",
   "execution_count": 1,
   "metadata": {},
   "outputs": [],
   "source": [
    "import mss\n",
    "import sys\n",
    "import subprocess\n",
    "import keyboard\n",
    "import time\n",
    "import Scripts.boardDecoderMod\n",
    "import math\n",
    "import copy\n",
    "import numpy as np\n",
    "import chess\n",
    "import pyautogui\n",
    "import chess.uci\n",
    "from skimage.transform import resize\n",
    "from chess.engine import EngineTerminatedException\n",
    "from PIL import Image\n",
    "import matplotlib.pyplot as plt\n",
    "import matplotlib.image as mpimg"
   ]
  },
  {
   "cell_type": "code",
   "execution_count": 2,
   "metadata": {},
   "outputs": [],
   "source": [
    "class BoardReader:\n",
    "    coords = [0,0,0,0]\n",
    "    width, height = 0,0\n",
    "    col = 'w'\n",
    "    \n",
    "    def getScreenshot(self):\n",
    "        mss.mss().shot(mon=1, output='images/screenshot.png')\n",
    "    \n",
    "    def getNewBoard(self):    \n",
    "        self.getScreenshot()\n",
    "        line = subprocess.check_output(['Scripts/SelectArea.exe','images/screenshot.png']).decode(\"utf-8\")\n",
    "        line = line[:-2]\n",
    "        line = line.split(' ')\n",
    "        for i in range(0,4):self.coords[i] = int(line[i])\n",
    "        \n",
    "        if(self.coords[0] > self.coords[2]):self.coords[0],self.coords[2] = self.coords[2],self.coords[0]\n",
    "        if(self.coords[1] > self.coords[3]):self.coords[1],self.coords[3] = self.coords[3],self.coords[1]\n",
    "\n",
    "        self.width = abs(self.coords[0] - self.coords[2])\n",
    "        self.height = abs(self.coords[1] - self.coords[3])\n",
    "        time.sleep(0.300)\n",
    "    \n",
    "    def getFen(self):\n",
    "        with mss.mss() as sct:\n",
    "            monitor = {\"top\": min(self.coords[1],self.coords[3]), \n",
    "                       \"left\": min(self.coords[0],self.coords[2]),\n",
    "                           \"width\": self.width, \"height\": self.height,\n",
    "                       \"mon\": 1,}\n",
    "            sct_img = sct.grab(monitor)\n",
    "            #Z = zip(sct_img.raw[2::4], sct_img.raw[1::4], sct_img.raw[0::4])\n",
    "            #pix_array =  np.array([list(a) for a in Z])\n",
    "            pix_array = np.array(Image.frombytes(\"RGB\", sct_img.size, sct_img.bgra, \"raw\", \"BGRX\"))\n",
    "            start = time.time()\n",
    "            pix_array = np.dot(pix_array[...,:3], [0.3, 0.59, 0.11]);\n",
    "            pix_array.resize(self.height,self.width)\n",
    "            \n",
    "            if(self.width < self.height):\n",
    "                pix_array = np.pad(pix_array,((0,0),(int((self.height-self.width)/2),int((self.height-self.width)/2))),'edge')\n",
    "            elif(self.width > self.height):\n",
    "                pix_array = np.pad(pix_array,((int((self.width-self.height)/2),int((self.width-self.height)/2)),(0,0)),'edge')\n",
    "            \n",
    "            pix_array = resize(pix_array,(224,224),anti_aliasing=True, mode='reflect', preserve_range=True);\n",
    "                       \n",
    "            figs = np.zeros((64,28,28))\n",
    "            k = 0\n",
    "            for i in range(0,8): \n",
    "                for j in range(0,8):\n",
    "                    figs[k] = pix_array[i*28:(i+1)*28,j*28:(j+1)*28]\n",
    "                    figs[k] = np.rot90(figs[k])\n",
    "                    k+=1\n",
    "            \n",
    "            f = Scripts.boardDecoderMod.makeFen(board = figs, Col = self.col)\n",
    "            return f"
   ]
  },
  {
   "cell_type": "code",
   "execution_count": 3,
   "metadata": {},
   "outputs": [],
   "source": [
    "class Engine:\n",
    "    fen = 'rnbqkbnr/pppppppp/8/8/8/8/PPPPPPPP/RNBQKBNR w KQkq - 0 1'\n",
    "    col = 'w'\n",
    "    board = chess.Board\n",
    "    depth = 5\n",
    "    engine = 0\n",
    "    def __init__(self, fen = 'rnbqkbnr/pppppppp/8/8/8/8/PPPPPPPP/RNBQKBNR w KQkq - 0 1', col = 'w'):\n",
    "        self.board = chess.Board(fen)\n",
    "        startBoard = chess.Board('rnbqkbnr/pppppppp/8/8/8/8/PPPPPPPP/RNBQKBNR w KQkq - 0 1')\n",
    "        A = [a.split() for a in str(startBoard).splitlines()]\n",
    "        B = [a.split() for a in str(self.board).splitlines()]\n",
    "        k = 0\n",
    "        for i in range(0,8):\n",
    "            for j in range(0,8):\n",
    "                if(A[i][j] != B[i][j]):\n",
    "                    k+=1\n",
    "        if(k <= 2):\n",
    "            self.board.set_castling_fen('KQkq')\n",
    "        \n",
    "        self.fen = fen\n",
    "        self.col = col\n",
    "        self.engine = chess.uci.popen_engine('Scripts/stockfish.exe')\n",
    "        print(self.engine.name)\n",
    "        print(self.engine.author)\n",
    "        self.engine.uci()\n",
    "        self.engine.ucinewgame()\n",
    "        \n",
    "    def go(self, fen, coords):\n",
    "        nBoard = chess.Board(fen)\n",
    "        print(\"position: \\n\",nBoard)\n",
    "        lm = list(self.board.legal_moves)\n",
    "        for m in lm:\n",
    "            self.board.push(m);\n",
    "            if(str(self.board) == str(nBoard)):\n",
    "                break\n",
    "            else: self.board.pop()\n",
    "        if(str(self.board) != str(nBoard)): self.board = chess.Board(fen)\n",
    "        \n",
    "        self.board.turn = chess.WHITE if self.col=='w' else chess.BLACK\n",
    "        self.engine.position(self.board)\n",
    "        \n",
    "        try:\n",
    "            bMove,ponder = self.engine.go(depth=self.depth)\n",
    "        except(EngineTerminatedException):\n",
    "            self.engine = chess.uci.popen_engine('Scripts/stockfish.exe')\n",
    "            print(\"restarting engine\")\n",
    "            self.engine.uci()\n",
    "            self.engine.ucinewgame()\n",
    "            return\n",
    "        \n",
    "        print('best move is: ', bMove)\n",
    "        \n",
    "        self.board.push(bMove)\n",
    "        \n",
    "        bMove = str(bMove)\n",
    "        \n",
    "        \n",
    "        move = [[coords[0],coords[1]],[coords[0],coords[1]]]\n",
    "        \n",
    "        W = int(abs(coords[2] - coords[0])/8);\n",
    "        H = int(abs(coords[3] - coords[1])/8);\n",
    "        \n",
    "        if (self.col == 'w'):\n",
    "            move[0][0] += (float(ord(bMove[0]) - ord('a')) + 0.5) * W;\n",
    "            move[0][1] += (7.5 - float(ord(bMove[1]) - ord('1'))) * H;\n",
    "\n",
    "            move[1][0] += (float(ord(bMove[2]) - ord('a')) + 0.5) * W;\n",
    "            move[1][1] += (7.5 - float(ord(bMove[3]) - ord('1'))) * H;\n",
    "        else:\n",
    "            move[0][0] += (7.5 - float(ord(bMove[0]) - ord('a'))) * W;\n",
    "            move[0][1] += (float(ord(bMove[1]) - ord('1')) + 0.5) * H;\n",
    "\n",
    "            move[1][0] += (7.5 - float(ord(bMove[2]) - ord('a'))) * W;\n",
    "            move[1][1] += (float(ord(bMove[3]) - ord('1')) + 0.5) * H;\n",
    "        \n",
    "        pyautogui.click(x = move[0][0], y = move[0][1])\n",
    "        pyautogui.click(x = move[1][0], y = move[1][1])\n",
    "                    "
   ]
  },
  {
   "cell_type": "code",
   "execution_count": 4,
   "metadata": {},
   "outputs": [],
   "source": [
    "def interface():\n",
    "    reader = BoardReader()\n",
    "    col = 'none'\n",
    "    while(1):\n",
    "        col = 'none'\n",
    "        print('Press shift+n to select new board\\nPress shift+w or shift+b to select your color')\n",
    "        while(col == 'none'):\n",
    "            time.sleep(0.05)\n",
    "            if(keyboard.is_pressed('shift+q')):\n",
    "                return\n",
    "            if(keyboard.is_pressed('shift+w')):\n",
    "                col = 'w'\n",
    "            if(keyboard.is_pressed('shift+b')):\n",
    "                col = 'b'\n",
    "            if(keyboard.is_pressed('shift+n')):\n",
    "                reader.getNewBoard()\n",
    "                \n",
    "        reader.col = col\n",
    "        engine = Engine(reader.getFen(),col)\n",
    "        print('return to play move\\nend to end game')\n",
    "        while(True):\n",
    "            curr=reader.getFen()\n",
    "            if(keyboard.is_pressed('return')):\n",
    "                engine.go(curr,reader.coords)\n",
    "            if(keyboard.is_pressed('shift+q')):\n",
    "                return\n",
    "            if(keyboard.is_pressed('end')):\n",
    "                break\n",
    "            if(keyboard.is_pressed('ctrl+6')):\n",
    "                while(keyboard.is_pressed('6')):\n",
    "                    pass\n",
    "                print('Increasing power', engine.depth)\n",
    "                engine.depth+=1\n",
    "                engine.depth = min(25,engine.depth)\n",
    "            if(keyboard.is_pressed('ctrl+4')):\n",
    "                while(keyboard.is_pressed('4')):\n",
    "                    pass\n",
    "                print('Decreasing power ', engine.depth)\n",
    "                engine.depth-=1\n",
    "                engine.depth = max(2,engine.depth)"
   ]
  },
  {
   "cell_type": "code",
   "execution_count": null,
   "metadata": {},
   "outputs": [
    {
     "name": "stdout",
     "output_type": "stream",
     "text": [
      "Press shift+n to select new board\n",
      "Press shift+w or shift+b to select your color\n"
     ]
    },
    {
     "name": "stderr",
     "output_type": "stream",
     "text": [
      "c:\\users\\hidelord\\appdata\\local\\programs\\python\\python36\\lib\\site-packages\\skimage\\morphology\\convex_hull.py:53: UserWarning: Input image is entirely zero, no valid convex hull. Returning empty image\n",
      "  \"Returning empty image\", UserWarning)\n"
     ]
    },
    {
     "name": "stdout",
     "output_type": "stream",
     "text": [
      "None\n",
      "None\n",
      "return to play move\n",
      "end to end game\n",
      "Increasing power 5\n",
      "Increasing power 6\n",
      "Increasing power 7\n",
      "Increasing power 8\n",
      "Increasing power 9\n",
      "Increasing power 10\n",
      "Increasing power 11\n",
      "position: \n",
      " r n b q k b n r\n",
      "p p p p p p p p\n",
      ". . . . . . . .\n",
      ". . . . . . . .\n",
      ". . . . . . . .\n",
      ". . . . . . . .\n",
      "P P P P P P P P\n",
      "R N B Q K B N R\n",
      "best move is:  e2e4\n"
     ]
    },
    {
     "name": "stderr",
     "output_type": "stream",
     "text": [
      "c:\\users\\hidelord\\appdata\\local\\programs\\python\\python36\\lib\\site-packages\\skimage\\morphology\\convex_hull.py:53: UserWarning: Input image is entirely zero, no valid convex hull. Returning empty image\n",
      "  \"Returning empty image\", UserWarning)\n",
      "c:\\users\\hidelord\\appdata\\local\\programs\\python\\python36\\lib\\site-packages\\skimage\\morphology\\convex_hull.py:53: UserWarning: Input image is entirely zero, no valid convex hull. Returning empty image\n",
      "  \"Returning empty image\", UserWarning)\n",
      "c:\\users\\hidelord\\appdata\\local\\programs\\python\\python36\\lib\\site-packages\\skimage\\morphology\\convex_hull.py:53: UserWarning: Input image is entirely zero, no valid convex hull. Returning empty image\n",
      "  \"Returning empty image\", UserWarning)\n"
     ]
    },
    {
     "name": "stdout",
     "output_type": "stream",
     "text": [
      "position: \n",
      " r n b q k b n r\n",
      "p p p p . p p p\n",
      ". . . . p . . .\n",
      ". . . . . . . .\n",
      ". . . . P . . .\n",
      ". . . . . . . .\n",
      "P P P P . P P P\n",
      "R N B Q K B N R\n",
      "best move is:  b1c3\n"
     ]
    },
    {
     "name": "stderr",
     "output_type": "stream",
     "text": [
      "c:\\users\\hidelord\\appdata\\local\\programs\\python\\python36\\lib\\site-packages\\skimage\\morphology\\convex_hull.py:53: UserWarning: Input image is entirely zero, no valid convex hull. Returning empty image\n",
      "  \"Returning empty image\", UserWarning)\n",
      "c:\\users\\hidelord\\appdata\\local\\programs\\python\\python36\\lib\\site-packages\\skimage\\morphology\\convex_hull.py:53: UserWarning: Input image is entirely zero, no valid convex hull. Returning empty image\n",
      "  \"Returning empty image\", UserWarning)\n"
     ]
    },
    {
     "name": "stdout",
     "output_type": "stream",
     "text": [
      "position: \n",
      " r n b q k b n r\n",
      "p p p . . p p p\n",
      ". . . . p . . .\n",
      ". . . p . . . .\n",
      ". . . . P . . .\n",
      ". . N . . . . .\n",
      "P P P P . P P P\n",
      "R . B Q K B N R\n",
      "best move is:  d2d4\n"
     ]
    },
    {
     "name": "stderr",
     "output_type": "stream",
     "text": [
      "c:\\users\\hidelord\\appdata\\local\\programs\\python\\python36\\lib\\site-packages\\skimage\\morphology\\convex_hull.py:53: UserWarning: Input image is entirely zero, no valid convex hull. Returning empty image\n",
      "  \"Returning empty image\", UserWarning)\n",
      "c:\\users\\hidelord\\appdata\\local\\programs\\python\\python36\\lib\\site-packages\\skimage\\morphology\\convex_hull.py:53: UserWarning: Input image is entirely zero, no valid convex hull. Returning empty image\n",
      "  \"Returning empty image\", UserWarning)\n"
     ]
    },
    {
     "name": "stdout",
     "output_type": "stream",
     "text": [
      "position: \n",
      " r n b q k b n r\n",
      "p p p . . p p p\n",
      ". . . . p . . .\n",
      ". . . . . . . .\n",
      ". . . P p . . .\n",
      ". . N . . . . .\n",
      "P P P . . P P P\n",
      "R . B Q K B N R\n",
      "best move is:  c3e4\n"
     ]
    },
    {
     "name": "stderr",
     "output_type": "stream",
     "text": [
      "c:\\users\\hidelord\\appdata\\local\\programs\\python\\python36\\lib\\site-packages\\skimage\\morphology\\convex_hull.py:53: UserWarning: Input image is entirely zero, no valid convex hull. Returning empty image\n",
      "  \"Returning empty image\", UserWarning)\n",
      "c:\\users\\hidelord\\appdata\\local\\programs\\python\\python36\\lib\\site-packages\\skimage\\morphology\\convex_hull.py:53: UserWarning: Input image is entirely zero, no valid convex hull. Returning empty image\n",
      "  \"Returning empty image\", UserWarning)\n"
     ]
    },
    {
     "name": "stdout",
     "output_type": "stream",
     "text": [
      "position: \n",
      " r n . q k b n r\n",
      "p p q . . p p p\n",
      ". . . . p . . .\n",
      ". . . . . . . .\n",
      ". . . P N . . .\n",
      ". . . . . . . .\n",
      "P P P . . P P P\n",
      "R . B Q K B N R\n",
      "best move is:  c2c3\n"
     ]
    },
    {
     "name": "stderr",
     "output_type": "stream",
     "text": [
      "c:\\users\\hidelord\\appdata\\local\\programs\\python\\python36\\lib\\site-packages\\skimage\\morphology\\convex_hull.py:53: UserWarning: Input image is entirely zero, no valid convex hull. Returning empty image\n",
      "  \"Returning empty image\", UserWarning)\n",
      "c:\\users\\hidelord\\appdata\\local\\programs\\python\\python36\\lib\\site-packages\\skimage\\morphology\\convex_hull.py:53: UserWarning: Input image is entirely zero, no valid convex hull. Returning empty image\n",
      "  \"Returning empty image\", UserWarning)\n"
     ]
    },
    {
     "name": "stdout",
     "output_type": "stream",
     "text": [
      "position: \n",
      " r n . q k b n r\n",
      "p p p . . p p p\n",
      ". . . . p . . .\n",
      ". . . . . . . .\n",
      ". . . P N . . .\n",
      ". . P . . . . .\n",
      "P P . . . P P P\n",
      "R . B Q K B N R\n",
      "best move is:  f1d3\n"
     ]
    },
    {
     "name": "stderr",
     "output_type": "stream",
     "text": [
      "c:\\users\\hidelord\\appdata\\local\\programs\\python\\python36\\lib\\site-packages\\skimage\\morphology\\convex_hull.py:53: UserWarning: Input image is entirely zero, no valid convex hull. Returning empty image\n",
      "  \"Returning empty image\", UserWarning)\n",
      "c:\\users\\hidelord\\appdata\\local\\programs\\python\\python36\\lib\\site-packages\\skimage\\morphology\\convex_hull.py:53: UserWarning: Input image is entirely zero, no valid convex hull. Returning empty image\n",
      "  \"Returning empty image\", UserWarning)\n",
      "c:\\users\\hidelord\\appdata\\local\\programs\\python\\python36\\lib\\site-packages\\skimage\\morphology\\convex_hull.py:53: UserWarning: Input image is entirely zero, no valid convex hull. Returning empty image\n",
      "  \"Returning empty image\", UserWarning)\n"
     ]
    },
    {
     "name": "stdout",
     "output_type": "stream",
     "text": [
      "position: \n",
      " r n . q k b . r\n",
      "p p p . . p p p\n",
      ". . b . p n . .\n",
      ". . . . . . . .\n",
      ". . . P N . . .\n",
      ". . P B . . . .\n",
      "P P . . . P P P\n",
      "R . B Q K . N R\n",
      "best move is:  e4f6\n"
     ]
    },
    {
     "name": "stderr",
     "output_type": "stream",
     "text": [
      "c:\\users\\hidelord\\appdata\\local\\programs\\python\\python36\\lib\\site-packages\\skimage\\morphology\\convex_hull.py:53: UserWarning: Input image is entirely zero, no valid convex hull. Returning empty image\n",
      "  \"Returning empty image\", UserWarning)\n",
      "c:\\users\\hidelord\\appdata\\local\\programs\\python\\python36\\lib\\site-packages\\skimage\\morphology\\convex_hull.py:53: UserWarning: Input image is entirely zero, no valid convex hull. Returning empty image\n",
      "  \"Returning empty image\", UserWarning)\n",
      "c:\\users\\hidelord\\appdata\\local\\programs\\python\\python36\\lib\\site-packages\\skimage\\morphology\\convex_hull.py:53: UserWarning: Input image is entirely zero, no valid convex hull. Returning empty image\n",
      "  \"Returning empty image\", UserWarning)\n"
     ]
    },
    {
     "name": "stdout",
     "output_type": "stream",
     "text": [
      "Increasing power 12\n"
     ]
    },
    {
     "name": "stderr",
     "output_type": "stream",
     "text": [
      "c:\\users\\hidelord\\appdata\\local\\programs\\python\\python36\\lib\\site-packages\\skimage\\morphology\\convex_hull.py:53: UserWarning: Input image is entirely zero, no valid convex hull. Returning empty image\n",
      "  \"Returning empty image\", UserWarning)\n",
      "c:\\users\\hidelord\\appdata\\local\\programs\\python\\python36\\lib\\site-packages\\skimage\\morphology\\convex_hull.py:53: UserWarning: Input image is entirely zero, no valid convex hull. Returning empty image\n",
      "  \"Returning empty image\", UserWarning)\n"
     ]
    },
    {
     "name": "stdout",
     "output_type": "stream",
     "text": [
      "Increasing power 13\n"
     ]
    },
    {
     "name": "stderr",
     "output_type": "stream",
     "text": [
      "c:\\users\\hidelord\\appdata\\local\\programs\\python\\python36\\lib\\site-packages\\skimage\\morphology\\convex_hull.py:53: UserWarning: Input image is entirely zero, no valid convex hull. Returning empty image\n",
      "  \"Returning empty image\", UserWarning)\n",
      "c:\\users\\hidelord\\appdata\\local\\programs\\python\\python36\\lib\\site-packages\\skimage\\morphology\\convex_hull.py:53: UserWarning: Input image is entirely zero, no valid convex hull. Returning empty image\n",
      "  \"Returning empty image\", UserWarning)\n",
      "c:\\users\\hidelord\\appdata\\local\\programs\\python\\python36\\lib\\site-packages\\skimage\\morphology\\convex_hull.py:53: UserWarning: Input image is entirely zero, no valid convex hull. Returning empty image\n",
      "  \"Returning empty image\", UserWarning)\n",
      "c:\\users\\hidelord\\appdata\\local\\programs\\python\\python36\\lib\\site-packages\\skimage\\morphology\\convex_hull.py:53: UserWarning: Input image is entirely zero, no valid convex hull. Returning empty image\n",
      "  \"Returning empty image\", UserWarning)\n",
      "c:\\users\\hidelord\\appdata\\local\\programs\\python\\python36\\lib\\site-packages\\skimage\\morphology\\convex_hull.py:53: UserWarning: Input image is entirely zero, no valid convex hull. Returning empty image\n",
      "  \"Returning empty image\", UserWarning)\n",
      "c:\\users\\hidelord\\appdata\\local\\programs\\python\\python36\\lib\\site-packages\\skimage\\morphology\\convex_hull.py:53: UserWarning: Input image is entirely zero, no valid convex hull. Returning empty image\n",
      "  \"Returning empty image\", UserWarning)\n",
      "c:\\users\\hidelord\\appdata\\local\\programs\\python\\python36\\lib\\site-packages\\skimage\\morphology\\convex_hull.py:53: UserWarning: Input image is entirely zero, no valid convex hull. Returning empty image\n",
      "  \"Returning empty image\", UserWarning)\n",
      "c:\\users\\hidelord\\appdata\\local\\programs\\python\\python36\\lib\\site-packages\\skimage\\morphology\\convex_hull.py:53: UserWarning: Input image is entirely zero, no valid convex hull. Returning empty image\n",
      "  \"Returning empty image\", UserWarning)\n"
     ]
    },
    {
     "name": "stdout",
     "output_type": "stream",
     "text": [
      "Press shift+n to select new board\n",
      "Press shift+w or shift+b to select your color\n"
     ]
    },
    {
     "name": "stderr",
     "output_type": "stream",
     "text": [
      "c:\\users\\hidelord\\appdata\\local\\programs\\python\\python36\\lib\\site-packages\\skimage\\morphology\\convex_hull.py:53: UserWarning: Input image is entirely zero, no valid convex hull. Returning empty image\n",
      "  \"Returning empty image\", UserWarning)\n"
     ]
    },
    {
     "name": "stdout",
     "output_type": "stream",
     "text": [
      "None\n",
      "None\n",
      "return to play move\n",
      "end to end game\n",
      "position: \n",
      " r n . q k b . r\n",
      "p p p . . p . p\n",
      ". . b . p p . .\n",
      ". . . . . . . .\n",
      ". . . P . . . .\n",
      ". . P B . . . .\n",
      "P P . . . P P P\n",
      "R . B Q K . N R\n",
      "best move is:  e1f1\n"
     ]
    },
    {
     "name": "stderr",
     "output_type": "stream",
     "text": [
      "c:\\users\\hidelord\\appdata\\local\\programs\\python\\python36\\lib\\site-packages\\skimage\\morphology\\convex_hull.py:53: UserWarning: Input image is entirely zero, no valid convex hull. Returning empty image\n",
      "  \"Returning empty image\", UserWarning)\n",
      "c:\\users\\hidelord\\appdata\\local\\programs\\python\\python36\\lib\\site-packages\\skimage\\morphology\\convex_hull.py:53: UserWarning: Input image is entirely zero, no valid convex hull. Returning empty image\n",
      "  \"Returning empty image\", UserWarning)\n",
      "c:\\users\\hidelord\\appdata\\local\\programs\\python\\python36\\lib\\site-packages\\skimage\\morphology\\convex_hull.py:53: UserWarning: Input image is entirely zero, no valid convex hull. Returning empty image\n",
      "  \"Returning empty image\", UserWarning)\n"
     ]
    },
    {
     "name": "stdout",
     "output_type": "stream",
     "text": [
      "Increasing power 5\n",
      "Increasing power 6\n",
      "Increasing power 7\n",
      "Increasing power 8\n",
      "Increasing power 9\n",
      "Increasing power 10\n",
      "Increasing power 11\n",
      "Increasing power 12\n",
      "position: \n",
      " r n . q k b r .\n",
      "p p p . . p . p\n",
      ". . b . p p . .\n",
      ". . . . . . . .\n",
      ". . . P . . . .\n",
      ". . P B . . . .\n",
      "P P . . . P P P\n",
      "R . B Q . K N R\n",
      "best move is:  g1f3\n"
     ]
    },
    {
     "name": "stderr",
     "output_type": "stream",
     "text": [
      "c:\\users\\hidelord\\appdata\\local\\programs\\python\\python36\\lib\\site-packages\\skimage\\morphology\\convex_hull.py:53: UserWarning: Input image is entirely zero, no valid convex hull. Returning empty image\n",
      "  \"Returning empty image\", UserWarning)\n",
      "c:\\users\\hidelord\\appdata\\local\\programs\\python\\python36\\lib\\site-packages\\skimage\\morphology\\convex_hull.py:53: UserWarning: Input image is entirely zero, no valid convex hull. Returning empty image\n",
      "  \"Returning empty image\", UserWarning)\n",
      "c:\\users\\hidelord\\appdata\\local\\programs\\python\\python36\\lib\\site-packages\\skimage\\morphology\\convex_hull.py:53: UserWarning: Input image is entirely zero, no valid convex hull. Returning empty image\n",
      "  \"Returning empty image\", UserWarning)\n"
     ]
    },
    {
     "name": "stdout",
     "output_type": "stream",
     "text": [
      "position: \n",
      " r n . q k b r .\n",
      "p p p . . p . .\n",
      ". . b . p p . .\n",
      ". . . . . . . p\n",
      ". . . P . . . .\n",
      ". . P B . N . .\n",
      "P P . . . P P P\n",
      "R . B Q . K . R\n",
      "best move is:  c1d2\n"
     ]
    },
    {
     "name": "stderr",
     "output_type": "stream",
     "text": [
      "c:\\users\\hidelord\\appdata\\local\\programs\\python\\python36\\lib\\site-packages\\skimage\\morphology\\convex_hull.py:53: UserWarning: Input image is entirely zero, no valid convex hull. Returning empty image\n",
      "  \"Returning empty image\", UserWarning)\n",
      "c:\\users\\hidelord\\appdata\\local\\programs\\python\\python36\\lib\\site-packages\\skimage\\morphology\\convex_hull.py:53: UserWarning: Input image is entirely zero, no valid convex hull. Returning empty image\n",
      "  \"Returning empty image\", UserWarning)\n",
      "c:\\users\\hidelord\\appdata\\local\\programs\\python\\python36\\lib\\site-packages\\skimage\\morphology\\convex_hull.py:53: UserWarning: Input image is entirely zero, no valid convex hull. Returning empty image\n",
      "  \"Returning empty image\", UserWarning)\n"
     ]
    },
    {
     "name": "stdout",
     "output_type": "stream",
     "text": [
      "position: \n",
      " r n . . k b r .\n",
      "p p p . . p . .\n",
      ". . b q p p . .\n",
      ". . . . . . . p\n",
      ". . . P . . . .\n",
      ". . P B . N . .\n",
      "P P . B . P P P\n",
      "R . . Q . K . R\n",
      "best move is:  h2h3\n"
     ]
    },
    {
     "name": "stderr",
     "output_type": "stream",
     "text": [
      "c:\\users\\hidelord\\appdata\\local\\programs\\python\\python36\\lib\\site-packages\\skimage\\morphology\\convex_hull.py:53: UserWarning: Input image is entirely zero, no valid convex hull. Returning empty image\n",
      "  \"Returning empty image\", UserWarning)\n",
      "c:\\users\\hidelord\\appdata\\local\\programs\\python\\python36\\lib\\site-packages\\skimage\\morphology\\convex_hull.py:53: UserWarning: Input image is entirely zero, no valid convex hull. Returning empty image\n",
      "  \"Returning empty image\", UserWarning)\n",
      "c:\\users\\hidelord\\appdata\\local\\programs\\python\\python36\\lib\\site-packages\\skimage\\morphology\\convex_hull.py:53: UserWarning: Input image is entirely zero, no valid convex hull. Returning empty image\n",
      "  \"Returning empty image\", UserWarning)\n",
      "c:\\users\\hidelord\\appdata\\local\\programs\\python\\python36\\lib\\site-packages\\skimage\\morphology\\convex_hull.py:53: UserWarning: Input image is entirely zero, no valid convex hull. Returning empty image\n",
      "  \"Returning empty image\", UserWarning)\n",
      "c:\\users\\hidelord\\appdata\\local\\programs\\python\\python36\\lib\\site-packages\\skimage\\morphology\\convex_hull.py:53: UserWarning: Input image is entirely zero, no valid convex hull. Returning empty image\n",
      "  \"Returning empty image\", UserWarning)\n",
      "c:\\users\\hidelord\\appdata\\local\\programs\\python\\python36\\lib\\site-packages\\skimage\\morphology\\convex_hull.py:53: UserWarning: Input image is entirely zero, no valid convex hull. Returning empty image\n",
      "  \"Returning empty image\", UserWarning)\n",
      "c:\\users\\hidelord\\appdata\\local\\programs\\python\\python36\\lib\\site-packages\\skimage\\morphology\\convex_hull.py:53: UserWarning: Input image is entirely zero, no valid convex hull. Returning empty image\n",
      "  \"Returning empty image\", UserWarning)\n",
      "c:\\users\\hidelord\\appdata\\local\\programs\\python\\python36\\lib\\site-packages\\skimage\\morphology\\convex_hull.py:53: UserWarning: Input image is entirely zero, no valid convex hull. Returning empty image\n",
      "  \"Returning empty image\", UserWarning)\n",
      "c:\\users\\hidelord\\appdata\\local\\programs\\python\\python36\\lib\\site-packages\\skimage\\morphology\\convex_hull.py:53: UserWarning: Input image is entirely zero, no valid convex hull. Returning empty image\n",
      "  \"Returning empty image\", UserWarning)\n",
      "c:\\users\\hidelord\\appdata\\local\\programs\\python\\python36\\lib\\site-packages\\skimage\\morphology\\convex_hull.py:53: UserWarning: Input image is entirely zero, no valid convex hull. Returning empty image\n",
      "  \"Returning empty image\", UserWarning)\n"
     ]
    },
    {
     "name": "stdout",
     "output_type": "stream",
     "text": [
      "position: \n",
      " r . . . k b r .\n",
      "p p p n . p . .\n",
      ". . b q p p . .\n",
      ". . . . . . . p\n",
      ". . . P . . . .\n",
      ". . P B . N . P\n",
      "P P . B . P P .\n",
      "R . . Q . K . R\n",
      "best move is:  d1e2\n"
     ]
    },
    {
     "name": "stderr",
     "output_type": "stream",
     "text": [
      "c:\\users\\hidelord\\appdata\\local\\programs\\python\\python36\\lib\\site-packages\\skimage\\morphology\\convex_hull.py:53: UserWarning: Input image is entirely zero, no valid convex hull. Returning empty image\n",
      "  \"Returning empty image\", UserWarning)\n",
      "c:\\users\\hidelord\\appdata\\local\\programs\\python\\python36\\lib\\site-packages\\skimage\\morphology\\convex_hull.py:53: UserWarning: Input image is entirely zero, no valid convex hull. Returning empty image\n",
      "  \"Returning empty image\", UserWarning)\n"
     ]
    },
    {
     "name": "stdout",
     "output_type": "stream",
     "text": [
      "position: \n",
      " . . k r . b r .\n",
      "p p p n . p . .\n",
      ". . b q p p . .\n",
      ". . . . . . . p\n",
      ". . . P . . . .\n",
      ". . P B . N . P\n",
      "P P . B Q P P .\n",
      "R . . . . K . R\n",
      "best move is:  d3b5\n"
     ]
    },
    {
     "name": "stderr",
     "output_type": "stream",
     "text": [
      "c:\\users\\hidelord\\appdata\\local\\programs\\python\\python36\\lib\\site-packages\\skimage\\morphology\\convex_hull.py:53: UserWarning: Input image is entirely zero, no valid convex hull. Returning empty image\n",
      "  \"Returning empty image\", UserWarning)\n",
      "c:\\users\\hidelord\\appdata\\local\\programs\\python\\python36\\lib\\site-packages\\skimage\\morphology\\convex_hull.py:53: UserWarning: Input image is entirely zero, no valid convex hull. Returning empty image\n",
      "  \"Returning empty image\", UserWarning)\n",
      "c:\\users\\hidelord\\appdata\\local\\programs\\python\\python36\\lib\\site-packages\\skimage\\morphology\\convex_hull.py:53: UserWarning: Input image is entirely zero, no valid convex hull. Returning empty image\n",
      "  \"Returning empty image\", UserWarning)\n"
     ]
    },
    {
     "name": "stdout",
     "output_type": "stream",
     "text": [
      "position: \n",
      " . . k r . b r .\n",
      "p p p n . p . .\n",
      ". . . q p p . .\n",
      ". B . b . . . p\n",
      ". . . P . . . .\n",
      ". . P . . N . P\n",
      "P P . B Q P P .\n",
      "R . . . . K . R\n",
      "best move is:  h1g1\n"
     ]
    },
    {
     "name": "stderr",
     "output_type": "stream",
     "text": [
      "c:\\users\\hidelord\\appdata\\local\\programs\\python\\python36\\lib\\site-packages\\skimage\\morphology\\convex_hull.py:53: UserWarning: Input image is entirely zero, no valid convex hull. Returning empty image\n",
      "  \"Returning empty image\", UserWarning)\n",
      "c:\\users\\hidelord\\appdata\\local\\programs\\python\\python36\\lib\\site-packages\\skimage\\morphology\\convex_hull.py:53: UserWarning: Input image is entirely zero, no valid convex hull. Returning empty image\n",
      "  \"Returning empty image\", UserWarning)\n",
      "c:\\users\\hidelord\\appdata\\local\\programs\\python\\python36\\lib\\site-packages\\skimage\\morphology\\convex_hull.py:53: UserWarning: Input image is entirely zero, no valid convex hull. Returning empty image\n",
      "  \"Returning empty image\", UserWarning)\n"
     ]
    },
    {
     "name": "stdout",
     "output_type": "stream",
     "text": [
      "position: \n",
      " . k . r . b r .\n",
      "p p p n . p . .\n",
      ". . . q p p . .\n",
      ". B . b . . . p\n",
      ". . . P . . . .\n",
      ". . P . . N . P\n",
      "P P . B Q P P .\n",
      "R . . . . K R .\n",
      "best move is:  g2g3\n"
     ]
    },
    {
     "name": "stderr",
     "output_type": "stream",
     "text": [
      "c:\\users\\hidelord\\appdata\\local\\programs\\python\\python36\\lib\\site-packages\\skimage\\morphology\\convex_hull.py:53: UserWarning: Input image is entirely zero, no valid convex hull. Returning empty image\n",
      "  \"Returning empty image\", UserWarning)\n",
      "c:\\users\\hidelord\\appdata\\local\\programs\\python\\python36\\lib\\site-packages\\skimage\\morphology\\convex_hull.py:53: UserWarning: Input image is entirely zero, no valid convex hull. Returning empty image\n",
      "  \"Returning empty image\", UserWarning)\n",
      "c:\\users\\hidelord\\appdata\\local\\programs\\python\\python36\\lib\\site-packages\\skimage\\morphology\\convex_hull.py:53: UserWarning: Input image is entirely zero, no valid convex hull. Returning empty image\n",
      "  \"Returning empty image\", UserWarning)\n"
     ]
    },
    {
     "name": "stdout",
     "output_type": "stream",
     "text": [
      "position: \n",
      " . k . r . b r .\n",
      "p p p n . p . .\n",
      ". q . . p p . .\n",
      ". B . b . . . p\n",
      ". . . P . . . .\n",
      ". . P . . N P P\n",
      "P P . B Q P . .\n",
      "R . . . . K R .\n",
      "best move is:  a2a4\n"
     ]
    },
    {
     "name": "stderr",
     "output_type": "stream",
     "text": [
      "c:\\users\\hidelord\\appdata\\local\\programs\\python\\python36\\lib\\site-packages\\skimage\\morphology\\convex_hull.py:53: UserWarning: Input image is entirely zero, no valid convex hull. Returning empty image\n",
      "  \"Returning empty image\", UserWarning)\n",
      "c:\\users\\hidelord\\appdata\\local\\programs\\python\\python36\\lib\\site-packages\\skimage\\morphology\\convex_hull.py:53: UserWarning: Input image is entirely zero, no valid convex hull. Returning empty image\n",
      "  \"Returning empty image\", UserWarning)\n"
     ]
    },
    {
     "name": "stdout",
     "output_type": "stream",
     "text": [
      "position: \n",
      " . k . r . b r .\n",
      ". p p n . p . .\n",
      "p q . . p p . .\n",
      ". B . b . . . p\n",
      "P . . P . . . .\n",
      ". . P . . N P P\n",
      ". P . B Q P . .\n",
      "R . . . . K R .\n",
      "best move is:  b5d3\n"
     ]
    },
    {
     "name": "stderr",
     "output_type": "stream",
     "text": [
      "c:\\users\\hidelord\\appdata\\local\\programs\\python\\python36\\lib\\site-packages\\skimage\\morphology\\convex_hull.py:53: UserWarning: Input image is entirely zero, no valid convex hull. Returning empty image\n",
      "  \"Returning empty image\", UserWarning)\n",
      "c:\\users\\hidelord\\appdata\\local\\programs\\python\\python36\\lib\\site-packages\\skimage\\morphology\\convex_hull.py:53: UserWarning: Input image is entirely zero, no valid convex hull. Returning empty image\n",
      "  \"Returning empty image\", UserWarning)\n",
      "c:\\users\\hidelord\\appdata\\local\\programs\\python\\python36\\lib\\site-packages\\skimage\\morphology\\convex_hull.py:53: UserWarning: Input image is entirely zero, no valid convex hull. Returning empty image\n",
      "  \"Returning empty image\", UserWarning)\n"
     ]
    },
    {
     "name": "stdout",
     "output_type": "stream",
     "text": [
      "position: \n",
      " . k . r . b r .\n",
      ". p p n . p . .\n",
      "p . q . p p . .\n",
      ". . . b . . . p\n",
      "P . . P . . . .\n",
      ". . P B . N P P\n",
      ". P . B Q P . .\n",
      "R . . . . K R .\n",
      "best move is:  f3h4\n"
     ]
    },
    {
     "name": "stderr",
     "output_type": "stream",
     "text": [
      "c:\\users\\hidelord\\appdata\\local\\programs\\python\\python36\\lib\\site-packages\\skimage\\morphology\\convex_hull.py:53: UserWarning: Input image is entirely zero, no valid convex hull. Returning empty image\n",
      "  \"Returning empty image\", UserWarning)\n",
      "c:\\users\\hidelord\\appdata\\local\\programs\\python\\python36\\lib\\site-packages\\skimage\\morphology\\convex_hull.py:53: UserWarning: Input image is entirely zero, no valid convex hull. Returning empty image\n",
      "  \"Returning empty image\", UserWarning)\n",
      "c:\\users\\hidelord\\appdata\\local\\programs\\python\\python36\\lib\\site-packages\\skimage\\morphology\\convex_hull.py:53: UserWarning: Input image is entirely zero, no valid convex hull. Returning empty image\n",
      "  \"Returning empty image\", UserWarning)\n"
     ]
    },
    {
     "name": "stdout",
     "output_type": "stream",
     "text": [
      "position: \n",
      " . k . r . b r .\n",
      ". p p n . p . .\n",
      "p . q . . p . .\n",
      ". . . b p . . p\n",
      "P . . P . . . N\n",
      ". . P B . . P P\n",
      ". P . B Q P . .\n",
      "R . . . . K R .\n",
      "best move is:  c3c4\n"
     ]
    },
    {
     "name": "stderr",
     "output_type": "stream",
     "text": [
      "c:\\users\\hidelord\\appdata\\local\\programs\\python\\python36\\lib\\site-packages\\skimage\\morphology\\convex_hull.py:53: UserWarning: Input image is entirely zero, no valid convex hull. Returning empty image\n",
      "  \"Returning empty image\", UserWarning)\n",
      "c:\\users\\hidelord\\appdata\\local\\programs\\python\\python36\\lib\\site-packages\\skimage\\morphology\\convex_hull.py:53: UserWarning: Input image is entirely zero, no valid convex hull. Returning empty image\n",
      "  \"Returning empty image\", UserWarning)\n",
      "c:\\users\\hidelord\\appdata\\local\\programs\\python\\python36\\lib\\site-packages\\skimage\\morphology\\convex_hull.py:53: UserWarning: Input image is entirely zero, no valid convex hull. Returning empty image\n",
      "  \"Returning empty image\", UserWarning)\n"
     ]
    },
    {
     "name": "stdout",
     "output_type": "stream",
     "text": [
      "position: \n",
      " . k . r . b r .\n",
      ". p p n . p . .\n",
      "p . q . b p . .\n",
      ". . . . p . . p\n",
      "P . P P . . . N\n",
      ". . . B . . P P\n",
      ". P . B Q P . .\n",
      "R . . . . K R .\n",
      "best move is:  d4d5\n"
     ]
    },
    {
     "name": "stderr",
     "output_type": "stream",
     "text": [
      "c:\\users\\hidelord\\appdata\\local\\programs\\python\\python36\\lib\\site-packages\\skimage\\morphology\\convex_hull.py:53: UserWarning: Input image is entirely zero, no valid convex hull. Returning empty image\n",
      "  \"Returning empty image\", UserWarning)\n",
      "c:\\users\\hidelord\\appdata\\local\\programs\\python\\python36\\lib\\site-packages\\skimage\\morphology\\convex_hull.py:53: UserWarning: Input image is entirely zero, no valid convex hull. Returning empty image\n",
      "  \"Returning empty image\", UserWarning)\n",
      "c:\\users\\hidelord\\appdata\\local\\programs\\python\\python36\\lib\\site-packages\\skimage\\morphology\\convex_hull.py:53: UserWarning: Input image is entirely zero, no valid convex hull. Returning empty image\n",
      "  \"Returning empty image\", UserWarning)\n"
     ]
    },
    {
     "name": "stdout",
     "output_type": "stream",
     "text": [
      "position: \n",
      " . k . r . b r .\n",
      ". p p n . p . .\n",
      "p . q . . p . .\n",
      ". . . P p . . p\n",
      "P . P . . . . N\n",
      ". . . B . . P b\n",
      ". P . B Q P . .\n",
      "R . . . . K R .\n",
      "best move is:  h4g2\n"
     ]
    },
    {
     "name": "stderr",
     "output_type": "stream",
     "text": [
      "c:\\users\\hidelord\\appdata\\local\\programs\\python\\python36\\lib\\site-packages\\skimage\\morphology\\convex_hull.py:53: UserWarning: Input image is entirely zero, no valid convex hull. Returning empty image\n",
      "  \"Returning empty image\", UserWarning)\n",
      "c:\\users\\hidelord\\appdata\\local\\programs\\python\\python36\\lib\\site-packages\\skimage\\morphology\\convex_hull.py:53: UserWarning: Input image is entirely zero, no valid convex hull. Returning empty image\n",
      "  \"Returning empty image\", UserWarning)\n"
     ]
    },
    {
     "name": "stdout",
     "output_type": "stream",
     "text": [
      "position: \n",
      " . k . r . b r .\n",
      ". p p n . p . .\n",
      "p . R . . p . .\n",
      ". . . P p . . p\n",
      "P . P . . . . .\n",
      ". . . B . . P b\n",
      ". P . B Q P N .\n",
      "R . . . . K R .\n",
      "best move is:  e2h5\n"
     ]
    },
    {
     "name": "stderr",
     "output_type": "stream",
     "text": [
      "c:\\users\\hidelord\\appdata\\local\\programs\\python\\python36\\lib\\site-packages\\skimage\\morphology\\convex_hull.py:53: UserWarning: Input image is entirely zero, no valid convex hull. Returning empty image\n",
      "  \"Returning empty image\", UserWarning)\n",
      "c:\\users\\hidelord\\appdata\\local\\programs\\python\\python36\\lib\\site-packages\\skimage\\morphology\\convex_hull.py:53: UserWarning: Input image is entirely zero, no valid convex hull. Returning empty image\n",
      "  \"Returning empty image\", UserWarning)\n",
      "c:\\users\\hidelord\\appdata\\local\\programs\\python\\python36\\lib\\site-packages\\skimage\\morphology\\convex_hull.py:53: UserWarning: Input image is entirely zero, no valid convex hull. Returning empty image\n",
      "  \"Returning empty image\", UserWarning)\n"
     ]
    },
    {
     "name": "stdout",
     "output_type": "stream",
     "text": [
      "position: \n",
      " . k . r . b r .\n",
      ". p p n . p . .\n",
      "p q . . . p . .\n",
      ". . . P p . . Q\n",
      "P . P . . . b .\n",
      ". . . B . . P .\n",
      ". P . B . P N .\n",
      "R . . . . K R .\n",
      "best move is:  h5h7\n"
     ]
    },
    {
     "name": "stderr",
     "output_type": "stream",
     "text": [
      "c:\\users\\hidelord\\appdata\\local\\programs\\python\\python36\\lib\\site-packages\\skimage\\morphology\\convex_hull.py:53: UserWarning: Input image is entirely zero, no valid convex hull. Returning empty image\n",
      "  \"Returning empty image\", UserWarning)\n",
      "c:\\users\\hidelord\\appdata\\local\\programs\\python\\python36\\lib\\site-packages\\skimage\\morphology\\convex_hull.py:53: UserWarning: Input image is entirely zero, no valid convex hull. Returning empty image\n",
      "  \"Returning empty image\", UserWarning)\n",
      "c:\\users\\hidelord\\appdata\\local\\programs\\python\\python36\\lib\\site-packages\\skimage\\morphology\\convex_hull.py:53: UserWarning: Input image is entirely zero, no valid convex hull. Returning empty image\n",
      "  \"Returning empty image\", UserWarning)\n"
     ]
    },
    {
     "name": "stdout",
     "output_type": "stream",
     "text": [
      "Increasing power 13\n",
      "Increasing power 14\n",
      "Increasing power 15\n",
      "position: \n",
      " . k . r . b . .\n",
      ". p p n . p r Q\n",
      "p q . . . p . .\n",
      ". . . P p . . .\n",
      "P . P . . . b .\n",
      ". . . B . . P .\n",
      ". P . B . P N .\n",
      "R . . . . K R .\n",
      "best move is:  h7h6\n"
     ]
    },
    {
     "name": "stderr",
     "output_type": "stream",
     "text": [
      "c:\\users\\hidelord\\appdata\\local\\programs\\python\\python36\\lib\\site-packages\\skimage\\morphology\\convex_hull.py:53: UserWarning: Input image is entirely zero, no valid convex hull. Returning empty image\n",
      "  \"Returning empty image\", UserWarning)\n",
      "c:\\users\\hidelord\\appdata\\local\\programs\\python\\python36\\lib\\site-packages\\skimage\\morphology\\convex_hull.py:53: UserWarning: Input image is entirely zero, no valid convex hull. Returning empty image\n",
      "  \"Returning empty image\", UserWarning)\n",
      "c:\\users\\hidelord\\appdata\\local\\programs\\python\\python36\\lib\\site-packages\\skimage\\morphology\\convex_hull.py:53: UserWarning: Input image is entirely zero, no valid convex hull. Returning empty image\n",
      "  \"Returning empty image\", UserWarning)\n"
     ]
    },
    {
     "name": "stdout",
     "output_type": "stream",
     "text": [
      "position: \n",
      " . k . r . b . .\n",
      ". p p n . p . .\n",
      "p q . . . p . Q\n",
      ". . . P p . r .\n",
      "P . P . . . b .\n",
      ". . . B . . P .\n",
      ". P . B . P N .\n",
      "R . . . . K R .\n",
      "best move is:  h6h4\n"
     ]
    },
    {
     "name": "stderr",
     "output_type": "stream",
     "text": [
      "c:\\users\\hidelord\\appdata\\local\\programs\\python\\python36\\lib\\site-packages\\skimage\\morphology\\convex_hull.py:53: UserWarning: Input image is entirely zero, no valid convex hull. Returning empty image\n",
      "  \"Returning empty image\", UserWarning)\n",
      "c:\\users\\hidelord\\appdata\\local\\programs\\python\\python36\\lib\\site-packages\\skimage\\morphology\\convex_hull.py:53: UserWarning: Input image is entirely zero, no valid convex hull. Returning empty image\n",
      "  \"Returning empty image\", UserWarning)\n",
      "c:\\users\\hidelord\\appdata\\local\\programs\\python\\python36\\lib\\site-packages\\skimage\\morphology\\convex_hull.py:53: UserWarning: Input image is entirely zero, no valid convex hull. Returning empty image\n",
      "  \"Returning empty image\", UserWarning)\n"
     ]
    },
    {
     "name": "stdout",
     "output_type": "stream",
     "text": [
      "position: \n",
      " . k . r . b . .\n",
      ". p p n . p . .\n",
      "p . . . . p . .\n",
      ". . . P p . r .\n",
      "P . P . . . b Q\n",
      ". . . B . . P .\n",
      ". q . B . P N .\n",
      "R . . . . K R .\n",
      "best move is:  d2g5\n"
     ]
    },
    {
     "name": "stderr",
     "output_type": "stream",
     "text": [
      "c:\\users\\hidelord\\appdata\\local\\programs\\python\\python36\\lib\\site-packages\\skimage\\morphology\\convex_hull.py:53: UserWarning: Input image is entirely zero, no valid convex hull. Returning empty image\n",
      "  \"Returning empty image\", UserWarning)\n",
      "c:\\users\\hidelord\\appdata\\local\\programs\\python\\python36\\lib\\site-packages\\skimage\\morphology\\convex_hull.py:53: UserWarning: Input image is entirely zero, no valid convex hull. Returning empty image\n",
      "  \"Returning empty image\", UserWarning)\n",
      "c:\\users\\hidelord\\appdata\\local\\programs\\python\\python36\\lib\\site-packages\\skimage\\morphology\\convex_hull.py:53: UserWarning: Input image is entirely zero, no valid convex hull. Returning empty image\n",
      "  \"Returning empty image\", UserWarning)\n"
     ]
    },
    {
     "name": "stdout",
     "output_type": "stream",
     "text": [
      "position: \n",
      " . k . r . b . .\n",
      ". p p n . p . .\n",
      "p . . . . p . .\n",
      ". . . P p . B .\n",
      "P . P . . . b Q\n",
      ". . . B . . P .\n",
      ". . . . . P N .\n",
      "q . . . . K R .\n",
      "best move is:  g2e1\n"
     ]
    },
    {
     "name": "stderr",
     "output_type": "stream",
     "text": [
      "c:\\users\\hidelord\\appdata\\local\\programs\\python\\python36\\lib\\site-packages\\skimage\\morphology\\convex_hull.py:53: UserWarning: Input image is entirely zero, no valid convex hull. Returning empty image\n",
      "  \"Returning empty image\", UserWarning)\n",
      "c:\\users\\hidelord\\appdata\\local\\programs\\python\\python36\\lib\\site-packages\\skimage\\morphology\\convex_hull.py:53: UserWarning: Input image is entirely zero, no valid convex hull. Returning empty image\n",
      "  \"Returning empty image\", UserWarning)\n",
      "c:\\users\\hidelord\\appdata\\local\\programs\\python\\python36\\lib\\site-packages\\skimage\\morphology\\convex_hull.py:53: UserWarning: Input image is entirely zero, no valid convex hull. Returning empty image\n",
      "  \"Returning empty image\", UserWarning)\n"
     ]
    },
    {
     "name": "stdout",
     "output_type": "stream",
     "text": [
      "position: \n",
      " . k . r . b . .\n",
      ". p p n . p . .\n",
      "p . . . . p . .\n",
      ". . . P p . B .\n",
      "P . P . . . . Q\n",
      ". . . B . b P .\n",
      ". . . . . P . .\n",
      "q . . . N K R .\n",
      "best move is:  d3e4\n"
     ]
    },
    {
     "name": "stderr",
     "output_type": "stream",
     "text": [
      "c:\\users\\hidelord\\appdata\\local\\programs\\python\\python36\\lib\\site-packages\\skimage\\morphology\\convex_hull.py:53: UserWarning: Input image is entirely zero, no valid convex hull. Returning empty image\n",
      "  \"Returning empty image\", UserWarning)\n",
      "c:\\users\\hidelord\\appdata\\local\\programs\\python\\python36\\lib\\site-packages\\skimage\\morphology\\convex_hull.py:53: UserWarning: Input image is entirely zero, no valid convex hull. Returning empty image\n",
      "  \"Returning empty image\", UserWarning)\n",
      "c:\\users\\hidelord\\appdata\\local\\programs\\python\\python36\\lib\\site-packages\\skimage\\morphology\\convex_hull.py:53: UserWarning: Input image is entirely zero, no valid convex hull. Returning empty image\n",
      "  \"Returning empty image\", UserWarning)\n"
     ]
    },
    {
     "name": "stdout",
     "output_type": "stream",
     "text": [
      "position: \n",
      " . k . r . b . .\n",
      ". p p n . p . .\n",
      "p . . . . p . .\n",
      ". . . P p . B .\n",
      "P . P . b . . Q\n",
      ". . . . . . P .\n",
      ". . . . . P . .\n",
      "q . . . N K R .\n",
      "best move is:  h4e4\n"
     ]
    },
    {
     "name": "stderr",
     "output_type": "stream",
     "text": [
      "c:\\users\\hidelord\\appdata\\local\\programs\\python\\python36\\lib\\site-packages\\skimage\\morphology\\convex_hull.py:53: UserWarning: Input image is entirely zero, no valid convex hull. Returning empty image\n",
      "  \"Returning empty image\", UserWarning)\n",
      "c:\\users\\hidelord\\appdata\\local\\programs\\python\\python36\\lib\\site-packages\\skimage\\morphology\\convex_hull.py:53: UserWarning: Input image is entirely zero, no valid convex hull. Returning empty image\n",
      "  \"Returning empty image\", UserWarning)\n"
     ]
    },
    {
     "name": "stdout",
     "output_type": "stream",
     "text": [
      "position: \n",
      " . k . r . b . .\n",
      ". p p n . p . .\n",
      "p . . . . . . .\n",
      ". . . P p . p .\n",
      "P . P . Q . . .\n",
      ". . . . . . P .\n",
      ". . . . . P . .\n",
      "q . . . N K R .\n",
      "best move is:  e4e2\n"
     ]
    },
    {
     "name": "stderr",
     "output_type": "stream",
     "text": [
      "c:\\users\\hidelord\\appdata\\local\\programs\\python\\python36\\lib\\site-packages\\skimage\\morphology\\convex_hull.py:53: UserWarning: Input image is entirely zero, no valid convex hull. Returning empty image\n",
      "  \"Returning empty image\", UserWarning)\n",
      "c:\\users\\hidelord\\appdata\\local\\programs\\python\\python36\\lib\\site-packages\\skimage\\morphology\\convex_hull.py:53: UserWarning: Input image is entirely zero, no valid convex hull. Returning empty image\n",
      "  \"Returning empty image\", UserWarning)\n",
      "c:\\users\\hidelord\\appdata\\local\\programs\\python\\python36\\lib\\site-packages\\skimage\\morphology\\convex_hull.py:53: UserWarning: Input image is entirely zero, no valid convex hull. Returning empty image\n",
      "  \"Returning empty image\", UserWarning)\n"
     ]
    },
    {
     "name": "stdout",
     "output_type": "stream",
     "text": [
      "position: \n",
      " . k . r . b . .\n",
      ". p p n . . . .\n",
      "p . . . . p . .\n",
      ". . . P p . p .\n",
      "P . P . . . . .\n",
      ". . . . . . P .\n",
      ". . . . Q P . .\n",
      "q . . . N K R .\n",
      "best move is:  f1g2\n"
     ]
    },
    {
     "name": "stderr",
     "output_type": "stream",
     "text": [
      "c:\\users\\hidelord\\appdata\\local\\programs\\python\\python36\\lib\\site-packages\\skimage\\morphology\\convex_hull.py:53: UserWarning: Input image is entirely zero, no valid convex hull. Returning empty image\n",
      "  \"Returning empty image\", UserWarning)\n",
      "c:\\users\\hidelord\\appdata\\local\\programs\\python\\python36\\lib\\site-packages\\skimage\\morphology\\convex_hull.py:53: UserWarning: Input image is entirely zero, no valid convex hull. Returning empty image\n",
      "  \"Returning empty image\", UserWarning)\n",
      "c:\\users\\hidelord\\appdata\\local\\programs\\python\\python36\\lib\\site-packages\\skimage\\morphology\\convex_hull.py:53: UserWarning: Input image is entirely zero, no valid convex hull. Returning empty image\n",
      "  \"Returning empty image\", UserWarning)\n"
     ]
    },
    {
     "name": "stdout",
     "output_type": "stream",
     "text": [
      "position: \n",
      " . k . r . b . .\n",
      ". p p n . . . .\n",
      "p . . . . p . .\n",
      ". . . P p . p .\n",
      "q . P . . . . .\n",
      ". . . . . . P .\n",
      ". . . . Q P K .\n",
      ". . . . N . R .\n",
      "best move is:  e1f3\n"
     ]
    },
    {
     "name": "stderr",
     "output_type": "stream",
     "text": [
      "c:\\users\\hidelord\\appdata\\local\\programs\\python\\python36\\lib\\site-packages\\skimage\\morphology\\convex_hull.py:53: UserWarning: Input image is entirely zero, no valid convex hull. Returning empty image\n",
      "  \"Returning empty image\", UserWarning)\n",
      "c:\\users\\hidelord\\appdata\\local\\programs\\python\\python36\\lib\\site-packages\\skimage\\morphology\\convex_hull.py:53: UserWarning: Input image is entirely zero, no valid convex hull. Returning empty image\n",
      "  \"Returning empty image\", UserWarning)\n",
      "c:\\users\\hidelord\\appdata\\local\\programs\\python\\python36\\lib\\site-packages\\skimage\\morphology\\convex_hull.py:53: UserWarning: Input image is entirely zero, no valid convex hull. Returning empty image\n",
      "  \"Returning empty image\", UserWarning)\n"
     ]
    },
    {
     "name": "stdout",
     "output_type": "stream",
     "text": [
      "position: \n",
      " . k . r . b . .\n",
      ". p p n . . . .\n",
      "p . . . . p . .\n",
      ". . . P p . . .\n",
      "q . P . . . p .\n",
      ". . . . . N P .\n",
      ". . . . Q P K .\n",
      ". . . . . . R .\n",
      "best move is:  f3h4\n"
     ]
    },
    {
     "name": "stderr",
     "output_type": "stream",
     "text": [
      "c:\\users\\hidelord\\appdata\\local\\programs\\python\\python36\\lib\\site-packages\\skimage\\morphology\\convex_hull.py:53: UserWarning: Input image is entirely zero, no valid convex hull. Returning empty image\n",
      "  \"Returning empty image\", UserWarning)\n",
      "c:\\users\\hidelord\\appdata\\local\\programs\\python\\python36\\lib\\site-packages\\skimage\\morphology\\convex_hull.py:53: UserWarning: Input image is entirely zero, no valid convex hull. Returning empty image\n",
      "  \"Returning empty image\", UserWarning)\n",
      "c:\\users\\hidelord\\appdata\\local\\programs\\python\\python36\\lib\\site-packages\\skimage\\morphology\\convex_hull.py:53: UserWarning: Input image is entirely zero, no valid convex hull. Returning empty image\n",
      "  \"Returning empty image\", UserWarning)\n",
      "c:\\users\\hidelord\\appdata\\local\\programs\\python\\python36\\lib\\site-packages\\skimage\\morphology\\convex_hull.py:53: UserWarning: Input image is entirely zero, no valid convex hull. Returning empty image\n",
      "  \"Returning empty image\", UserWarning)\n"
     ]
    },
    {
     "name": "stdout",
     "output_type": "stream",
     "text": [
      "position: \n",
      " . k . r . . . .\n",
      ". p p n . . . .\n",
      "p . . . . p . .\n",
      ". . b P p . . .\n",
      "q . P . . . p N\n",
      ". . . . . . P .\n",
      ". . . . Q P K .\n",
      ". . . . . . R .\n",
      "best move is:  g1c1\n"
     ]
    },
    {
     "name": "stderr",
     "output_type": "stream",
     "text": [
      "c:\\users\\hidelord\\appdata\\local\\programs\\python\\python36\\lib\\site-packages\\skimage\\morphology\\convex_hull.py:53: UserWarning: Input image is entirely zero, no valid convex hull. Returning empty image\n",
      "  \"Returning empty image\", UserWarning)\n",
      "c:\\users\\hidelord\\appdata\\local\\programs\\python\\python36\\lib\\site-packages\\skimage\\morphology\\convex_hull.py:53: UserWarning: Input image is entirely zero, no valid convex hull. Returning empty image\n",
      "  \"Returning empty image\", UserWarning)\n",
      "c:\\users\\hidelord\\appdata\\local\\programs\\python\\python36\\lib\\site-packages\\skimage\\morphology\\convex_hull.py:53: UserWarning: Input image is entirely zero, no valid convex hull. Returning empty image\n",
      "  \"Returning empty image\", UserWarning)\n"
     ]
    },
    {
     "name": "stdout",
     "output_type": "stream",
     "text": [
      "position: \n",
      " . k . r . . . .\n",
      ". . p n . . . .\n",
      "p . . . . p . .\n",
      ". p b P p . . .\n",
      "q . P . . . p N\n",
      ". . . . . . P .\n",
      ". . . . Q P K .\n",
      ". . R . . . . .\n",
      "best move is:  c4b5\n"
     ]
    },
    {
     "name": "stderr",
     "output_type": "stream",
     "text": [
      "c:\\users\\hidelord\\appdata\\local\\programs\\python\\python36\\lib\\site-packages\\skimage\\morphology\\convex_hull.py:53: UserWarning: Input image is entirely zero, no valid convex hull. Returning empty image\n",
      "  \"Returning empty image\", UserWarning)\n",
      "c:\\users\\hidelord\\appdata\\local\\programs\\python\\python36\\lib\\site-packages\\skimage\\morphology\\convex_hull.py:53: UserWarning: Input image is entirely zero, no valid convex hull. Returning empty image\n",
      "  \"Returning empty image\", UserWarning)\n",
      "c:\\users\\hidelord\\appdata\\local\\programs\\python\\python36\\lib\\site-packages\\skimage\\morphology\\convex_hull.py:53: UserWarning: Input image is entirely zero, no valid convex hull. Returning empty image\n",
      "  \"Returning empty image\", UserWarning)\n"
     ]
    },
    {
     "name": "stdout",
     "output_type": "stream",
     "text": [
      "position: \n",
      " . . . r . . . .\n",
      "k . p n . . . .\n",
      "p . . . . p . .\n",
      ". P b P p . . .\n",
      "q . . . . . p N\n",
      ". . . . . . P .\n",
      ". . . . Q P K .\n",
      ". . R . . . . .\n",
      "best move is:  b5a6\n"
     ]
    },
    {
     "name": "stderr",
     "output_type": "stream",
     "text": [
      "c:\\users\\hidelord\\appdata\\local\\programs\\python\\python36\\lib\\site-packages\\skimage\\morphology\\convex_hull.py:53: UserWarning: Input image is entirely zero, no valid convex hull. Returning empty image\n",
      "  \"Returning empty image\", UserWarning)\n",
      "c:\\users\\hidelord\\appdata\\local\\programs\\python\\python36\\lib\\site-packages\\skimage\\morphology\\convex_hull.py:53: UserWarning: Input image is entirely zero, no valid convex hull. Returning empty image\n",
      "  \"Returning empty image\", UserWarning)\n",
      "c:\\users\\hidelord\\appdata\\local\\programs\\python\\python36\\lib\\site-packages\\skimage\\morphology\\convex_hull.py:53: UserWarning: Input image is entirely zero, no valid convex hull. Returning empty image\n",
      "  \"Returning empty image\", UserWarning)\n"
     ]
    },
    {
     "name": "stdout",
     "output_type": "stream",
     "text": [
      "position: \n",
      " . . . r . . . .\n",
      "k . p n . . . .\n",
      "q . . . . p . .\n",
      ". . b P p . . .\n",
      ". . . . . . p N\n",
      ". . . . . . P .\n",
      ". . . . Q P K .\n",
      ". . R . . . . .\n",
      "best move is:  e2d1\n"
     ]
    },
    {
     "name": "stderr",
     "output_type": "stream",
     "text": [
      "c:\\users\\hidelord\\appdata\\local\\programs\\python\\python36\\lib\\site-packages\\skimage\\morphology\\convex_hull.py:53: UserWarning: Input image is entirely zero, no valid convex hull. Returning empty image\n",
      "  \"Returning empty image\", UserWarning)\n",
      "c:\\users\\hidelord\\appdata\\local\\programs\\python\\python36\\lib\\site-packages\\skimage\\morphology\\convex_hull.py:53: UserWarning: Input image is entirely zero, no valid convex hull. Returning empty image\n",
      "  \"Returning empty image\", UserWarning)\n",
      "c:\\users\\hidelord\\appdata\\local\\programs\\python\\python36\\lib\\site-packages\\skimage\\morphology\\convex_hull.py:53: UserWarning: Input image is entirely zero, no valid convex hull. Returning empty image\n",
      "  \"Returning empty image\", UserWarning)\n"
     ]
    },
    {
     "name": "stdout",
     "output_type": "stream",
     "text": [
      "position: \n",
      " . . . r . . . .\n",
      "k . p n . . . .\n",
      "q . . . . p . .\n",
      ". . . P p . . .\n",
      ". . . b . . p N\n",
      ". . . . . . P .\n",
      ". . . . . P K .\n",
      ". . R Q . . . .\n",
      "best move is:  c1c7\n"
     ]
    },
    {
     "name": "stderr",
     "output_type": "stream",
     "text": [
      "c:\\users\\hidelord\\appdata\\local\\programs\\python\\python36\\lib\\site-packages\\skimage\\morphology\\convex_hull.py:53: UserWarning: Input image is entirely zero, no valid convex hull. Returning empty image\n",
      "  \"Returning empty image\", UserWarning)\n",
      "c:\\users\\hidelord\\appdata\\local\\programs\\python\\python36\\lib\\site-packages\\skimage\\morphology\\convex_hull.py:53: UserWarning: Input image is entirely zero, no valid convex hull. Returning empty image\n",
      "  \"Returning empty image\", UserWarning)\n",
      "c:\\users\\hidelord\\appdata\\local\\programs\\python\\python36\\lib\\site-packages\\skimage\\morphology\\convex_hull.py:53: UserWarning: Input image is entirely zero, no valid convex hull. Returning empty image\n",
      "  \"Returning empty image\", UserWarning)\n"
     ]
    },
    {
     "name": "stdout",
     "output_type": "stream",
     "text": [
      "position: \n",
      " k . . r . . . .\n",
      ". . R n . . . .\n",
      "q . . . . p . .\n",
      ". . . P p . . .\n",
      ". . . b . . p N\n",
      ". . . . . . P .\n",
      ". . . . . P K .\n",
      ". . . Q . . . .\n",
      "best move is:  d1g4\n"
     ]
    },
    {
     "name": "stderr",
     "output_type": "stream",
     "text": [
      "c:\\users\\hidelord\\appdata\\local\\programs\\python\\python36\\lib\\site-packages\\skimage\\morphology\\convex_hull.py:53: UserWarning: Input image is entirely zero, no valid convex hull. Returning empty image\n",
      "  \"Returning empty image\", UserWarning)\n",
      "c:\\users\\hidelord\\appdata\\local\\programs\\python\\python36\\lib\\site-packages\\skimage\\morphology\\convex_hull.py:53: UserWarning: Input image is entirely zero, no valid convex hull. Returning empty image\n",
      "  \"Returning empty image\", UserWarning)\n",
      "c:\\users\\hidelord\\appdata\\local\\programs\\python\\python36\\lib\\site-packages\\skimage\\morphology\\convex_hull.py:53: UserWarning: Input image is entirely zero, no valid convex hull. Returning empty image\n",
      "  \"Returning empty image\", UserWarning)\n"
     ]
    },
    {
     "name": "stdout",
     "output_type": "stream",
     "text": [
      "position: \n",
      " k . . r . . . .\n",
      ". . R . . . . .\n",
      "q . . . . p . .\n",
      ". . n P p . . .\n",
      ". . . b . . Q N\n",
      ". . . . . . P .\n",
      ". . . . . P K .\n",
      ". . . . . . . .\n",
      "best move is:  h4f5\n"
     ]
    },
    {
     "name": "stderr",
     "output_type": "stream",
     "text": [
      "c:\\users\\hidelord\\appdata\\local\\programs\\python\\python36\\lib\\site-packages\\skimage\\morphology\\convex_hull.py:53: UserWarning: Input image is entirely zero, no valid convex hull. Returning empty image\n",
      "  \"Returning empty image\", UserWarning)\n",
      "c:\\users\\hidelord\\appdata\\local\\programs\\python\\python36\\lib\\site-packages\\skimage\\morphology\\convex_hull.py:53: UserWarning: Input image is entirely zero, no valid convex hull. Returning empty image\n",
      "  \"Returning empty image\", UserWarning)\n"
     ]
    },
    {
     "name": "stdout",
     "output_type": "stream",
     "text": [
      "position: \n",
      " k . r . . . . .\n",
      ". . R . . . . .\n",
      "q . . . . p . .\n",
      ". . n P p N . .\n",
      ". . . b . . Q .\n",
      ". . . . . . P .\n",
      ". . . . . P K .\n",
      ". . . . . . . .\n",
      "best move is:  c7h7\n"
     ]
    },
    {
     "name": "stderr",
     "output_type": "stream",
     "text": [
      "c:\\users\\hidelord\\appdata\\local\\programs\\python\\python36\\lib\\site-packages\\skimage\\morphology\\convex_hull.py:53: UserWarning: Input image is entirely zero, no valid convex hull. Returning empty image\n",
      "  \"Returning empty image\", UserWarning)\n",
      "c:\\users\\hidelord\\appdata\\local\\programs\\python\\python36\\lib\\site-packages\\skimage\\morphology\\convex_hull.py:53: UserWarning: Input image is entirely zero, no valid convex hull. Returning empty image\n",
      "  \"Returning empty image\", UserWarning)\n",
      "c:\\users\\hidelord\\appdata\\local\\programs\\python\\python36\\lib\\site-packages\\skimage\\morphology\\convex_hull.py:53: UserWarning: Input image is entirely zero, no valid convex hull. Returning empty image\n",
      "  \"Returning empty image\", UserWarning)\n"
     ]
    },
    {
     "name": "stdout",
     "output_type": "stream",
     "text": [
      "position: \n",
      " k r . . . . . .\n",
      ". . . . . . . R\n",
      "q . . . . p . .\n",
      ". . n P p N . .\n",
      ". . . b . . Q .\n",
      ". . . . . . P .\n",
      ". . . . . P K .\n",
      ". . . . . . . .\n",
      "best move is:  f5d4\n"
     ]
    },
    {
     "name": "stderr",
     "output_type": "stream",
     "text": [
      "c:\\users\\hidelord\\appdata\\local\\programs\\python\\python36\\lib\\site-packages\\skimage\\morphology\\convex_hull.py:53: UserWarning: Input image is entirely zero, no valid convex hull. Returning empty image\n",
      "  \"Returning empty image\", UserWarning)\n",
      "c:\\users\\hidelord\\appdata\\local\\programs\\python\\python36\\lib\\site-packages\\skimage\\morphology\\convex_hull.py:53: UserWarning: Input image is entirely zero, no valid convex hull. Returning empty image\n",
      "  \"Returning empty image\", UserWarning)\n",
      "c:\\users\\hidelord\\appdata\\local\\programs\\python\\python36\\lib\\site-packages\\skimage\\morphology\\convex_hull.py:53: UserWarning: Input image is entirely zero, no valid convex hull. Returning empty image\n",
      "  \"Returning empty image\", UserWarning)\n"
     ]
    },
    {
     "name": "stdout",
     "output_type": "stream",
     "text": [
      "position: \n",
      " k r . . . . . .\n",
      ". . . . . . . R\n",
      "q . . . . p . .\n",
      ". . n P . . . .\n",
      ". . . p . . Q .\n",
      ". . . . . . P .\n",
      ". . . . . P K .\n",
      ". . . . . . . .\n",
      "best move is:  g4d4\n"
     ]
    },
    {
     "name": "stderr",
     "output_type": "stream",
     "text": [
      "c:\\users\\hidelord\\appdata\\local\\programs\\python\\python36\\lib\\site-packages\\skimage\\morphology\\convex_hull.py:53: UserWarning: Input image is entirely zero, no valid convex hull. Returning empty image\n",
      "  \"Returning empty image\", UserWarning)\n",
      "c:\\users\\hidelord\\appdata\\local\\programs\\python\\python36\\lib\\site-packages\\skimage\\morphology\\convex_hull.py:53: UserWarning: Input image is entirely zero, no valid convex hull. Returning empty image\n",
      "  \"Returning empty image\", UserWarning)\n",
      "c:\\users\\hidelord\\appdata\\local\\programs\\python\\python36\\lib\\site-packages\\skimage\\morphology\\convex_hull.py:53: UserWarning: Input image is entirely zero, no valid convex hull. Returning empty image\n",
      "  \"Returning empty image\", UserWarning)\n"
     ]
    },
    {
     "name": "stdout",
     "output_type": "stream",
     "text": [
      "position: \n",
      " k . r . . . . .\n",
      ". . . . . . . R\n",
      "q . . . . p . .\n",
      ". . n P . . . .\n",
      ". . . Q . . . .\n",
      ". . . . . . P .\n",
      ". . . . . P K .\n",
      ". . . . . . . .\n",
      "best move is:  h7f7\n"
     ]
    },
    {
     "name": "stderr",
     "output_type": "stream",
     "text": [
      "c:\\users\\hidelord\\appdata\\local\\programs\\python\\python36\\lib\\site-packages\\skimage\\morphology\\convex_hull.py:53: UserWarning: Input image is entirely zero, no valid convex hull. Returning empty image\n",
      "  \"Returning empty image\", UserWarning)\n",
      "c:\\users\\hidelord\\appdata\\local\\programs\\python\\python36\\lib\\site-packages\\skimage\\morphology\\convex_hull.py:53: UserWarning: Input image is entirely zero, no valid convex hull. Returning empty image\n",
      "  \"Returning empty image\", UserWarning)\n",
      "c:\\users\\hidelord\\appdata\\local\\programs\\python\\python36\\lib\\site-packages\\skimage\\morphology\\convex_hull.py:53: UserWarning: Input image is entirely zero, no valid convex hull. Returning empty image\n",
      "  \"Returning empty image\", UserWarning)\n"
     ]
    },
    {
     "name": "stdout",
     "output_type": "stream",
     "text": [
      "position: \n",
      " k . r . . . . .\n",
      ". . . . . R . .\n",
      ". . . . . p . .\n",
      ". . n P . . . .\n",
      "q . . Q . . . .\n",
      ". . . . . . P .\n",
      ". . . . . P K .\n",
      ". . . . . . . .\n",
      "best move is:  d4f6\n"
     ]
    },
    {
     "name": "stderr",
     "output_type": "stream",
     "text": [
      "c:\\users\\hidelord\\appdata\\local\\programs\\python\\python36\\lib\\site-packages\\skimage\\morphology\\convex_hull.py:53: UserWarning: Input image is entirely zero, no valid convex hull. Returning empty image\n",
      "  \"Returning empty image\", UserWarning)\n",
      "c:\\users\\hidelord\\appdata\\local\\programs\\python\\python36\\lib\\site-packages\\skimage\\morphology\\convex_hull.py:53: UserWarning: Input image is entirely zero, no valid convex hull. Returning empty image\n",
      "  \"Returning empty image\", UserWarning)\n",
      "c:\\users\\hidelord\\appdata\\local\\programs\\python\\python36\\lib\\site-packages\\skimage\\morphology\\convex_hull.py:53: UserWarning: Input image is entirely zero, no valid convex hull. Returning empty image\n",
      "  \"Returning empty image\", UserWarning)\n"
     ]
    },
    {
     "name": "stdout",
     "output_type": "stream",
     "text": [
      "position: \n",
      " k . r . . . . .\n",
      ". . . . . R . .\n",
      ". . . . . Q . .\n",
      ". . n P . . . .\n",
      ". . . . q . . .\n",
      ". . . . . . P .\n",
      ". . . . . P K .\n",
      ". . . . . . . .\n",
      "best move is:  g2h2\n"
     ]
    },
    {
     "name": "stderr",
     "output_type": "stream",
     "text": [
      "c:\\users\\hidelord\\appdata\\local\\programs\\python\\python36\\lib\\site-packages\\skimage\\morphology\\convex_hull.py:53: UserWarning: Input image is entirely zero, no valid convex hull. Returning empty image\n",
      "  \"Returning empty image\", UserWarning)\n",
      "c:\\users\\hidelord\\appdata\\local\\programs\\python\\python36\\lib\\site-packages\\skimage\\morphology\\convex_hull.py:53: UserWarning: Input image is entirely zero, no valid convex hull. Returning empty image\n",
      "  \"Returning empty image\", UserWarning)\n",
      "c:\\users\\hidelord\\appdata\\local\\programs\\python\\python36\\lib\\site-packages\\skimage\\morphology\\convex_hull.py:53: UserWarning: Input image is entirely zero, no valid convex hull. Returning empty image\n",
      "  \"Returning empty image\", UserWarning)\n"
     ]
    },
    {
     "name": "stdout",
     "output_type": "stream",
     "text": [
      "position: \n",
      " k . r . . . . .\n",
      ". . . . . R . .\n",
      ". . . . . Q . .\n",
      ". . n P . . . .\n",
      "q . . . . . . .\n",
      ". . . . . . P .\n",
      ". . . . . P . K\n",
      ". . . . . . . .\n",
      "best move is:  f7h7\n"
     ]
    },
    {
     "name": "stderr",
     "output_type": "stream",
     "text": [
      "c:\\users\\hidelord\\appdata\\local\\programs\\python\\python36\\lib\\site-packages\\skimage\\morphology\\convex_hull.py:53: UserWarning: Input image is entirely zero, no valid convex hull. Returning empty image\n",
      "  \"Returning empty image\", UserWarning)\n",
      "c:\\users\\hidelord\\appdata\\local\\programs\\python\\python36\\lib\\site-packages\\skimage\\morphology\\convex_hull.py:53: UserWarning: Input image is entirely zero, no valid convex hull. Returning empty image\n",
      "  \"Returning empty image\", UserWarning)\n",
      "c:\\users\\hidelord\\appdata\\local\\programs\\python\\python36\\lib\\site-packages\\skimage\\morphology\\convex_hull.py:53: UserWarning: Input image is entirely zero, no valid convex hull. Returning empty image\n",
      "  \"Returning empty image\", UserWarning)\n",
      "c:\\users\\hidelord\\appdata\\local\\programs\\python\\python36\\lib\\site-packages\\skimage\\morphology\\convex_hull.py:53: UserWarning: Input image is entirely zero, no valid convex hull. Returning empty image\n",
      "  \"Returning empty image\", UserWarning)\n",
      "c:\\users\\hidelord\\appdata\\local\\programs\\python\\python36\\lib\\site-packages\\skimage\\morphology\\convex_hull.py:53: UserWarning: Input image is entirely zero, no valid convex hull. Returning empty image\n",
      "  \"Returning empty image\", UserWarning)\n"
     ]
    },
    {
     "name": "stdout",
     "output_type": "stream",
     "text": [
      "position: \n",
      " k . r . . . . .\n",
      ". . . . . . . R\n",
      "q . . . . Q . .\n",
      ". . n P . . . .\n",
      ". . . . . . . .\n",
      ". . . . . . P .\n",
      ". . . . . P . K\n",
      ". . . . . . . .\n",
      "best move is:  d5d6\n"
     ]
    },
    {
     "name": "stderr",
     "output_type": "stream",
     "text": [
      "c:\\users\\hidelord\\appdata\\local\\programs\\python\\python36\\lib\\site-packages\\skimage\\morphology\\convex_hull.py:53: UserWarning: Input image is entirely zero, no valid convex hull. Returning empty image\n",
      "  \"Returning empty image\", UserWarning)\n",
      "c:\\users\\hidelord\\appdata\\local\\programs\\python\\python36\\lib\\site-packages\\skimage\\morphology\\convex_hull.py:53: UserWarning: Input image is entirely zero, no valid convex hull. Returning empty image\n",
      "  \"Returning empty image\", UserWarning)\n"
     ]
    },
    {
     "name": "stdout",
     "output_type": "stream",
     "text": [
      "position: \n",
      " k . r . . . . .\n",
      ". . . . . . . R\n",
      ". q . P . Q . .\n",
      ". . n . . . . .\n",
      ". . . . . . . .\n",
      ". . . . . . P .\n",
      ". . . . . P . K\n",
      ". . . . . . . .\n",
      "best move is:  d6d7\n"
     ]
    },
    {
     "name": "stderr",
     "output_type": "stream",
     "text": [
      "c:\\users\\hidelord\\appdata\\local\\programs\\python\\python36\\lib\\site-packages\\skimage\\morphology\\convex_hull.py:53: UserWarning: Input image is entirely zero, no valid convex hull. Returning empty image\n",
      "  \"Returning empty image\", UserWarning)\n",
      "c:\\users\\hidelord\\appdata\\local\\programs\\python\\python36\\lib\\site-packages\\skimage\\morphology\\convex_hull.py:53: UserWarning: Input image is entirely zero, no valid convex hull. Returning empty image\n",
      "  \"Returning empty image\", UserWarning)\n",
      "c:\\users\\hidelord\\appdata\\local\\programs\\python\\python36\\lib\\site-packages\\skimage\\morphology\\convex_hull.py:53: UserWarning: Input image is entirely zero, no valid convex hull. Returning empty image\n",
      "  \"Returning empty image\", UserWarning)\n"
     ]
    },
    {
     "name": "stdout",
     "output_type": "stream",
     "text": [
      "position: \n",
      " k . r . . . . .\n",
      ". . . n . . . R\n",
      ". q . . . Q . .\n",
      ". . . . . . . .\n",
      ". . . . . . . .\n",
      ". . . . . . P .\n",
      ". . . . . P . K\n",
      ". . . . . . . .\n",
      "best move is:  f6f3\n"
     ]
    },
    {
     "name": "stderr",
     "output_type": "stream",
     "text": [
      "c:\\users\\hidelord\\appdata\\local\\programs\\python\\python36\\lib\\site-packages\\skimage\\morphology\\convex_hull.py:53: UserWarning: Input image is entirely zero, no valid convex hull. Returning empty image\n",
      "  \"Returning empty image\", UserWarning)\n",
      "c:\\users\\hidelord\\appdata\\local\\programs\\python\\python36\\lib\\site-packages\\skimage\\morphology\\convex_hull.py:53: UserWarning: Input image is entirely zero, no valid convex hull. Returning empty image\n",
      "  \"Returning empty image\", UserWarning)\n",
      "c:\\users\\hidelord\\appdata\\local\\programs\\python\\python36\\lib\\site-packages\\skimage\\morphology\\convex_hull.py:53: UserWarning: Input image is entirely zero, no valid convex hull. Returning empty image\n",
      "  \"Returning empty image\", UserWarning)\n"
     ]
    },
    {
     "name": "stdout",
     "output_type": "stream",
     "text": [
      "position: \n",
      " k . r . . . . .\n",
      ". q . n . . . R\n",
      ". . . . . . . .\n",
      ". . . . . . . .\n",
      ". . . . . . . .\n",
      ". . . . . Q P .\n",
      ". . . . . P . K\n",
      ". . . . . . . .\n",
      "best move is:  f3b7\n"
     ]
    },
    {
     "name": "stderr",
     "output_type": "stream",
     "text": [
      "c:\\users\\hidelord\\appdata\\local\\programs\\python\\python36\\lib\\site-packages\\skimage\\morphology\\convex_hull.py:53: UserWarning: Input image is entirely zero, no valid convex hull. Returning empty image\n",
      "  \"Returning empty image\", UserWarning)\n",
      "c:\\users\\hidelord\\appdata\\local\\programs\\python\\python36\\lib\\site-packages\\skimage\\morphology\\convex_hull.py:53: UserWarning: Input image is entirely zero, no valid convex hull. Returning empty image\n",
      "  \"Returning empty image\", UserWarning)\n",
      "c:\\users\\hidelord\\appdata\\local\\programs\\python\\python36\\lib\\site-packages\\skimage\\morphology\\convex_hull.py:53: UserWarning: Input image is entirely zero, no valid convex hull. Returning empty image\n",
      "  \"Returning empty image\", UserWarning)\n"
     ]
    },
    {
     "name": "stdout",
     "output_type": "stream",
     "text": [
      "position: \n",
      " . . r . . . . .\n",
      ". k . n . . . R\n",
      ". . . . . . . .\n",
      ". . . . . . . .\n",
      ". . . . . . . .\n",
      ". . . . . . P .\n",
      ". . . . . P . K\n",
      ". . . . . . . .\n",
      "best move is:  h7d7\n"
     ]
    },
    {
     "name": "stderr",
     "output_type": "stream",
     "text": [
      "c:\\users\\hidelord\\appdata\\local\\programs\\python\\python36\\lib\\site-packages\\skimage\\morphology\\convex_hull.py:53: UserWarning: Input image is entirely zero, no valid convex hull. Returning empty image\n",
      "  \"Returning empty image\", UserWarning)\n"
     ]
    }
   ],
   "source": [
    "interface()"
   ]
  },
  {
   "cell_type": "code",
   "execution_count": null,
   "metadata": {},
   "outputs": [],
   "source": []
  }
 ],
 "metadata": {
  "kernelspec": {
   "display_name": "Python 3",
   "language": "python",
   "name": "python3"
  },
  "language_info": {
   "codemirror_mode": {
    "name": "ipython",
    "version": 3
   },
   "file_extension": ".py",
   "mimetype": "text/x-python",
   "name": "python",
   "nbconvert_exporter": "python",
   "pygments_lexer": "ipython3",
   "version": "3.6.6"
  }
 },
 "nbformat": 4,
 "nbformat_minor": 2
}
